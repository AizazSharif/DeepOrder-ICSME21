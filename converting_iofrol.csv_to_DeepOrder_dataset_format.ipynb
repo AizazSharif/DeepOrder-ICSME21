{
 "cells": [
  {
   "cell_type": "code",
   "execution_count": 20,
   "metadata": {},
   "outputs": [],
   "source": [
    "import json\n",
    "import csv\n",
    "import pandas as pd\n",
    "import numpy as np"
   ]
  },
  {
   "cell_type": "code",
   "execution_count": 21,
   "metadata": {},
   "outputs": [
    {
     "data": {
      "text/plain": [
       "(32260, 7)"
      ]
     },
     "execution_count": 21,
     "metadata": {},
     "output_type": "execute_result"
    }
   ],
   "source": [
    "df_iofrol = pd.read_csv('iofrol.csv', sep=';',)\n",
    "df_iofrol.shape"
   ]
  },
  {
   "cell_type": "code",
   "execution_count": 22,
   "metadata": {},
   "outputs": [
    {
     "data": {
      "text/html": [
       "<div>\n",
       "<style scoped>\n",
       "    .dataframe tbody tr th:only-of-type {\n",
       "        vertical-align: middle;\n",
       "    }\n",
       "\n",
       "    .dataframe tbody tr th {\n",
       "        vertical-align: top;\n",
       "    }\n",
       "\n",
       "    .dataframe thead th {\n",
       "        text-align: right;\n",
       "    }\n",
       "</style>\n",
       "<table border=\"1\" class=\"dataframe\">\n",
       "  <thead>\n",
       "    <tr style=\"text-align: right;\">\n",
       "      <th></th>\n",
       "      <th>Id</th>\n",
       "      <th>Name</th>\n",
       "      <th>Duration</th>\n",
       "      <th>LastRun</th>\n",
       "      <th>LastResults</th>\n",
       "      <th>Verdict</th>\n",
       "      <th>Cycle</th>\n",
       "    </tr>\n",
       "  </thead>\n",
       "  <tbody>\n",
       "    <tr>\n",
       "      <th>0</th>\n",
       "      <td>1</td>\n",
       "      <td>78082</td>\n",
       "      <td>57262</td>\n",
       "      <td>2015-02-13 16:13:00</td>\n",
       "      <td>[]</td>\n",
       "      <td>1</td>\n",
       "      <td>1</td>\n",
       "    </tr>\n",
       "    <tr>\n",
       "      <th>1</th>\n",
       "      <td>2</td>\n",
       "      <td>78083</td>\n",
       "      <td>57145</td>\n",
       "      <td>2015-02-13 16:13:00</td>\n",
       "      <td>[]</td>\n",
       "      <td>1</td>\n",
       "      <td>1</td>\n",
       "    </tr>\n",
       "    <tr>\n",
       "      <th>2</th>\n",
       "      <td>3</td>\n",
       "      <td>78084</td>\n",
       "      <td>56861</td>\n",
       "      <td>2015-02-13 16:13:00</td>\n",
       "      <td>[]</td>\n",
       "      <td>1</td>\n",
       "      <td>1</td>\n",
       "    </tr>\n",
       "    <tr>\n",
       "      <th>3</th>\n",
       "      <td>4</td>\n",
       "      <td>78085</td>\n",
       "      <td>55332</td>\n",
       "      <td>2015-02-13 16:13:00</td>\n",
       "      <td>[]</td>\n",
       "      <td>1</td>\n",
       "      <td>1</td>\n",
       "    </tr>\n",
       "    <tr>\n",
       "      <th>4</th>\n",
       "      <td>5</td>\n",
       "      <td>78086</td>\n",
       "      <td>59120</td>\n",
       "      <td>2015-02-13 16:13:00</td>\n",
       "      <td>[]</td>\n",
       "      <td>1</td>\n",
       "      <td>1</td>\n",
       "    </tr>\n",
       "  </tbody>\n",
       "</table>\n",
       "</div>"
      ],
      "text/plain": [
       "   Id   Name  Duration              LastRun LastResults  Verdict  Cycle\n",
       "0   1  78082     57262  2015-02-13 16:13:00          []        1      1\n",
       "1   2  78083     57145  2015-02-13 16:13:00          []        1      1\n",
       "2   3  78084     56861  2015-02-13 16:13:00          []        1      1\n",
       "3   4  78085     55332  2015-02-13 16:13:00          []        1      1\n",
       "4   5  78086     59120  2015-02-13 16:13:00          []        1      1"
      ]
     },
     "execution_count": 22,
     "metadata": {},
     "output_type": "execute_result"
    }
   ],
   "source": [
    "df_iofrol.head()"
   ]
  },
  {
   "cell_type": "code",
   "execution_count": 23,
   "metadata": {},
   "outputs": [
    {
     "data": {
      "text/plain": [
       "1941"
      ]
     },
     "execution_count": 23,
     "metadata": {},
     "output_type": "execute_result"
    }
   ],
   "source": [
    "df_iofrol['Name'].nunique()\n"
   ]
  },
  {
   "cell_type": "code",
   "execution_count": 24,
   "metadata": {},
   "outputs": [],
   "source": [
    "# Dropping rows containing LastResults less than size of 3 executions\n",
    "MF = df_iofrol.loc[:,'LastResults'].tolist()                                                           \n",
    "\n",
    "\n",
    "i=0\n",
    "for a in MF:\n",
    "    \n",
    "    \n",
    "    \n",
    "    s=''.join(x for x in a if x.isdigit())\n",
    "    if len(s) < 3:\n",
    "        \n",
    "        df_iofrol.drop(i , inplace=True)\n",
    "        \n",
    "        \n",
    "    i=i+1\n"
   ]
  },
  {
   "cell_type": "code",
   "execution_count": 25,
   "metadata": {},
   "outputs": [],
   "source": [
    "# Based on RETECS documentation for comparison\n",
    "#df_iofrol=df_iofrol[:2086]"
   ]
  },
  {
   "cell_type": "code",
   "execution_count": 26,
   "metadata": {},
   "outputs": [],
   "source": [
    "# Adding List values of LastResults into separate E1,E2,E3 columns        \n",
    "MF = df_iofrol.loc[:,'LastResults'].tolist()                                                           \n",
    "\n",
    "rows = len(MF)\n",
    "\n",
    "E1 = []\n",
    "E2 = []\n",
    "\n",
    "E3 = []\n",
    " \n",
    "    \n",
    "i=0\n",
    "for a in MF:\n",
    "    \n",
    "    \n",
    "    \n",
    "    s=''.join(x for x in a if x.isdigit())\n",
    "\n",
    "        \n",
    "\n",
    "    E1.append(s[0])\n",
    "    E2.append(s[1])\n",
    "    E3.append(s[2])\n",
    "    #print (s[0],\"-\",s[1],\"-\",s[2])\n",
    "\n",
    "    \n",
    "    \n",
    "    \n",
    "    \n",
    "    \n",
    "    i=i+1\n",
    "    #print (\"---\")"
   ]
  },
  {
   "cell_type": "code",
   "execution_count": 27,
   "metadata": {},
   "outputs": [],
   "source": [
    "df_iofrol['E1'] = E1\n",
    "df_iofrol['E2'] = E2\n",
    "df_iofrol['E3'] = E3\n"
   ]
  },
  {
   "cell_type": "code",
   "execution_count": 28,
   "metadata": {},
   "outputs": [],
   "source": [
    "#function to reverse each row of the matrix\n",
    "def reverse_row_element(array_data):\n",
    "    list_data = array_data.tolist()\n",
    "    list_data.reverse()\n",
    "    return list_data\n",
    "df_iofrol['E1'] =df_iofrol['E1'].astype(int)\n",
    "df_iofrol['E2'] =df_iofrol['E2'].astype(int)\n",
    "df_iofrol['E3'] =df_iofrol['E3'].astype(int)\n",
    "\n",
    "# defining failure matrix MF\n",
    "MF = df_iofrol.loc[:,'E1':'E3'].values\n",
    "\n",
    "rows = len(MF)\n",
    "columns = len(MF[0])\n",
    "\n",
    "#calculating distance of failure for each test cases\n",
    "distances_list = []\n",
    "\n",
    "for i in range(rows):\n",
    "    reversed_element = reverse_row_element(MF[i])\n",
    "    if -1 in reversed_element:        \n",
    "        for j in range(len(reversed_element)):\n",
    "            if reversed_element[j] == -1:\n",
    "                distances_list.insert(i, j+1)\n",
    "                break\n",
    "    else:\n",
    "        #If distance == 0, means the test case has always been successful\n",
    "        distances_list.insert(i, 0)"
   ]
  },
  {
   "cell_type": "code",
   "execution_count": 29,
   "metadata": {},
   "outputs": [],
   "source": [
    "#calculating number of change of state of Pass/Fail for each test cases\n",
    "change_in_status = []\n",
    "\n",
    "for i in range(rows):\n",
    "    each_element = MF[i]\n",
    "    counter = 0\n",
    "    for j in range(len(each_element)-1):\n",
    "        if each_element[j]!=each_element[j+1]:\n",
    "            counter+=1\n",
    "    change_in_status.append(counter)"
   ]
  },
  {
   "cell_type": "code",
   "execution_count": 30,
   "metadata": {},
   "outputs": [
    {
     "name": "stdout",
     "output_type": "stream",
     "text": [
      "(3,)\n",
      "(26599, 3)\n"
     ]
    }
   ],
   "source": [
    "#Preparing weights based on DeepOrder algorithm\n",
    "weights = np.array([0.1,0.2,0.7])\n",
    "print (weights.shape)\n",
    "#Extracting average execution time from dataset\n",
    "df_iofrol['Duration'] =df_iofrol['Duration']\n",
    "\n",
    "Te = df_iofrol.Duration.values\n",
    "print (MF.shape)\n",
    "#Calculating priority value for each test case\n",
    "priority_value = (MF*weights).sum(axis=1)\n",
    "priority_value+= np.max(Te)/Te"
   ]
  },
  {
   "cell_type": "code",
   "execution_count": 31,
   "metadata": {},
   "outputs": [],
   "source": [
    "df_iofrol['DIST']=distances_list\n",
    "df_iofrol['CHANGE_IN_STATUS']=change_in_status\n",
    "df_iofrol['PRIORITY_VALUE'] = priority_value\n",
    "#df_iofrol.to_csv('iofrol_updated'+'.csv', index = False)"
   ]
  },
  {
   "cell_type": "code",
   "execution_count": 32,
   "metadata": {},
   "outputs": [],
   "source": [
    "# Update dates in LastRun according to each cycle\n",
    "from datetime import timedelta\n",
    "\n",
    "\n",
    "from datetime import datetime\n",
    "Month_of_thirty_days = [2,4,6,9,11]\n",
    "from dateutil.relativedelta import relativedelta\n",
    "\n",
    "currentDay = datetime.now().day\n",
    "currentMonth = datetime.now().month\n",
    "currentYear = datetime.now().year\n",
    "\n",
    "\n",
    "cycle = df_iofrol.loc[:,'Cycle'].values\n",
    "Dates = df_iofrol.loc[:,'LastRun'].values\n",
    "\n",
    "previous = 0\n",
    "rows = len(cycle)\n",
    "count=0\n",
    "firsttime = False\n",
    "\n",
    "\n",
    "# for rest of the cycle\n",
    "for i in range(rows):\n",
    "    each_element =cycle[i]\n",
    "    #print (\"Cycle :\",each_element)\n",
    "    #print (Dates[i])\n",
    "    if i==0:\n",
    "        #print (\"nothing\")\n",
    "        datestring = Dates[i]\n",
    "        dt = datetime.strptime(datestring, '%Y-%m-%d %H:%M:%S')\n",
    "        Dates[i] =  str(dt.year) +\"-\"+ str(dt.month) +\"-\"+ str(dt.day)\n",
    "    if i >= 1:\n",
    "        datestring = Dates[i]\n",
    "        dt = datetime.strptime(datestring, '%Y-%m-%d %H:%M:%S')\n",
    "        value = float(each_element-1)\n",
    "        # print (timedelta(days=value))\n",
    "        dtt =  dt + timedelta(days=value)\n",
    "        Dates[i] =  str(dtt.year) +\"-\"+ str(dtt.month) +\"-\"+ str(dtt.day)\n",
    "    #print (Dates[i])\n",
    "    #print ('---')  \n",
    "    \n",
    "\n",
    "\n",
    "\n",
    " "
   ]
  },
  {
   "cell_type": "code",
   "execution_count": 33,
   "metadata": {},
   "outputs": [
    {
     "name": "stdout",
     "output_type": "stream",
     "text": [
      "2062\n"
     ]
    }
   ],
   "source": [
    "#for testing purposes only\n",
    "from datetime import datetime\n",
    "datestring = Dates[0]\n",
    "dt = datetime.strptime(datestring, '%Y-%m-%d')\n",
    "#print (dt.year, dt.month, dt.day)\n",
    "\n",
    "from datetime import date\n",
    "f_date = date(dt.year, dt.month, dt.day)\n",
    "l_date = date(currentYear,currentMonth,currentDay)\n",
    "delta = l_date - f_date\n",
    "print(delta.days)\n",
    "days.append(delta.days)"
   ]
  },
  {
   "cell_type": "code",
   "execution_count": 34,
   "metadata": {},
   "outputs": [],
   "source": [
    "# Calculating difference in LastRun test cases (number of days in return)\n",
    "from datetime import datetime\n",
    "Month_of_thirty_days = [2,4,6,9,11]\n",
    "from dateutil.relativedelta import relativedelta\n",
    "\n",
    "currentDay = datetime.now().day\n",
    "currentMonth = datetime.now().month\n",
    "currentYear = datetime.now().year\n",
    "\n",
    "\n",
    "days=[]\n",
    "previous = 0\n",
    "rows = len(Dates)\n",
    "count=0\n",
    "firsttime = False\n",
    "'''\n",
    "#for 1st Cycle\n",
    "from datetime import datetime\n",
    "datestring = Dates[0]\n",
    "dt = datetime.strptime(datestring, '%Y-%m-%d')\n",
    "#print (dt.year, dt.month, dt.day)\n",
    "\n",
    "from datetime import date\n",
    "f_date = date(dt.year, dt.month, dt.day)\n",
    "l_date = date(currentYear,currentMonth,currentDay)\n",
    "delta = l_date - f_date\n",
    "print(delta.days)\n",
    "days.append(delta.days)\n",
    "'''\n",
    "\n",
    "\n",
    "\n",
    "# for rest of the cycle\n",
    "for i in range(rows):\n",
    "    each_element =cycle[i]\n",
    "    #print (\"Cycle :\",each_element)\n",
    "    \n",
    "    \n",
    "    \n",
    "    if i ==0:\n",
    "        #print (\"1st Cycle\")\n",
    "        #for 1st Cycle\n",
    "        from datetime import datetime\n",
    "        datestring = Dates[i]\n",
    "\n",
    "        dt = datetime.strptime(datestring, '%Y-%m-%d')\n",
    "        #print (type(dt))\n",
    "    \n",
    "        f_date = date(dt.year, dt.month, dt.day)\n",
    "        l_date = date(currentYear,currentMonth,currentDay)\n",
    "        delta = l_date - f_date\n",
    "        #print (delta)\n",
    "        #print (currentYear, currentMonth, currentDay, \" - \", dt.year, dt.month, dt.day)\n",
    "\n",
    "        previous = each_element\n",
    "        \n",
    "    if i >= 1:\n",
    "        datestring = Dates[i]\n",
    "        datestring_prev = Dates[i-1]\n",
    "        dt = datetime.strptime(datestring, '%Y-%m-%d')\n",
    "        dt_prev = datetime.strptime(datestring_prev, '%Y-%m-%d')\n",
    "\n",
    "\n",
    "        f_date = date(dt.year, dt.month, dt.day)\n",
    "        l_date = date(dt_prev.year, dt_prev.month, dt_prev.day)\n",
    "        delta = l_date - f_date\n",
    "        #print (\"** \",dt_prev.year, dt_prev.month, dt_prev.day, \" - \", dt.year, dt.month, dt.day)\n",
    "        \n",
    "\n",
    "    days.append(delta.days)\n",
    "    \n",
    "    #print ('---')  \n",
    "            \n",
    "    \n",
    "    \n",
    "    "
   ]
  },
  {
   "cell_type": "code",
   "execution_count": 35,
   "metadata": {},
   "outputs": [],
   "source": [
    "df_iofrol['LastRunFeature'] = days\n"
   ]
  },
  {
   "cell_type": "code",
   "execution_count": 36,
   "metadata": {},
   "outputs": [],
   "source": [
    "df_iofrol[\"LastRunFeature\"]=((df_iofrol[\"LastRunFeature\"]-df_iofrol[\"LastRunFeature\"].min())/(df_iofrol[\"LastRunFeature\"].max()-df_iofrol[\"LastRunFeature\"].min()))*5\n",
    "df_iofrol[\"DurationFeature\"]=((df_iofrol[\"Duration\"]-df_iofrol[\"Duration\"].min())/(df_iofrol[\"Duration\"].max()-df_iofrol[\"Duration\"].min()))*5\n",
    "df_iofrol[\"Duration\"] = df_iofrol[\"Duration\"].astype(int)\n"
   ]
  },
  {
   "cell_type": "code",
   "execution_count": 37,
   "metadata": {},
   "outputs": [],
   "source": [
    "df_iofrol['Id'] = range(1, 1+len(df_iofrol))"
   ]
  },
  {
   "cell_type": "code",
   "execution_count": 38,
   "metadata": {},
   "outputs": [],
   "source": [
    "df_iofrol.to_csv('iofrol_updated'+'.csv', index = False)"
   ]
  },
  {
   "cell_type": "code",
   "execution_count": null,
   "metadata": {},
   "outputs": [],
   "source": [
    "df_iofrol.head()"
   ]
  },
  {
   "cell_type": "code",
   "execution_count": null,
   "metadata": {},
   "outputs": [],
   "source": []
  }
 ],
 "metadata": {
  "kernelspec": {
   "display_name": "Python 3",
   "language": "python",
   "name": "python3"
  },
  "language_info": {
   "codemirror_mode": {
    "name": "ipython",
    "version": 3
   },
   "file_extension": ".py",
   "mimetype": "text/x-python",
   "name": "python",
   "nbconvert_exporter": "python",
   "pygments_lexer": "ipython3",
   "version": "3.7.7"
  }
 },
 "nbformat": 4,
 "nbformat_minor": 4
}
