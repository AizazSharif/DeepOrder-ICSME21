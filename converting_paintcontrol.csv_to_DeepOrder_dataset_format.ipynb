{
 "cells": [
  {
   "cell_type": "code",
   "execution_count": 21,
   "metadata": {},
   "outputs": [],
   "source": [
    "import json\n",
    "import csv\n",
    "import pandas as pd\n",
    "import numpy as np"
   ]
  },
  {
   "cell_type": "code",
   "execution_count": 22,
   "metadata": {},
   "outputs": [
    {
     "data": {
      "text/plain": [
       "(25594, 7)"
      ]
     },
     "execution_count": 22,
     "metadata": {},
     "output_type": "execute_result"
    }
   ],
   "source": [
    "df_paint = pd.read_csv('paintcontrol.csv', sep=';',)\n",
    "df_paint.shape"
   ]
  },
  {
   "cell_type": "code",
   "execution_count": 23,
   "metadata": {},
   "outputs": [
    {
     "data": {
      "text/html": [
       "<div>\n",
       "<style scoped>\n",
       "    .dataframe tbody tr th:only-of-type {\n",
       "        vertical-align: middle;\n",
       "    }\n",
       "\n",
       "    .dataframe tbody tr th {\n",
       "        vertical-align: top;\n",
       "    }\n",
       "\n",
       "    .dataframe thead th {\n",
       "        text-align: right;\n",
       "    }\n",
       "</style>\n",
       "<table border=\"1\" class=\"dataframe\">\n",
       "  <thead>\n",
       "    <tr style=\"text-align: right;\">\n",
       "      <th></th>\n",
       "      <th>Id</th>\n",
       "      <th>Name</th>\n",
       "      <th>Duration</th>\n",
       "      <th>LastRun</th>\n",
       "      <th>LastResults</th>\n",
       "      <th>Verdict</th>\n",
       "      <th>Cycle</th>\n",
       "    </tr>\n",
       "  </thead>\n",
       "  <tbody>\n",
       "    <tr>\n",
       "      <th>0</th>\n",
       "      <td>1</td>\n",
       "      <td>112180</td>\n",
       "      <td>1000</td>\n",
       "      <td>2016-01-12 09:17:00</td>\n",
       "      <td>[1]</td>\n",
       "      <td>0</td>\n",
       "      <td>1</td>\n",
       "    </tr>\n",
       "    <tr>\n",
       "      <th>1</th>\n",
       "      <td>2</td>\n",
       "      <td>112180</td>\n",
       "      <td>1000</td>\n",
       "      <td>2016-01-12 09:39:00</td>\n",
       "      <td>[0, 1]</td>\n",
       "      <td>0</td>\n",
       "      <td>1</td>\n",
       "    </tr>\n",
       "    <tr>\n",
       "      <th>2</th>\n",
       "      <td>3</td>\n",
       "      <td>112175</td>\n",
       "      <td>39050</td>\n",
       "      <td>2016-01-12 10:32:00</td>\n",
       "      <td>[0]</td>\n",
       "      <td>0</td>\n",
       "      <td>1</td>\n",
       "    </tr>\n",
       "    <tr>\n",
       "      <th>3</th>\n",
       "      <td>4</td>\n",
       "      <td>112180</td>\n",
       "      <td>1000</td>\n",
       "      <td>2016-01-12 10:34:00</td>\n",
       "      <td>[0, 0, 1]</td>\n",
       "      <td>0</td>\n",
       "      <td>1</td>\n",
       "    </tr>\n",
       "    <tr>\n",
       "      <th>4</th>\n",
       "      <td>5</td>\n",
       "      <td>112284</td>\n",
       "      <td>47131</td>\n",
       "      <td>2016-01-12 10:38:00</td>\n",
       "      <td>[0]</td>\n",
       "      <td>0</td>\n",
       "      <td>1</td>\n",
       "    </tr>\n",
       "  </tbody>\n",
       "</table>\n",
       "</div>"
      ],
      "text/plain": [
       "   Id    Name  Duration              LastRun LastResults  Verdict  Cycle\n",
       "0   1  112180      1000  2016-01-12 09:17:00         [1]        0      1\n",
       "1   2  112180      1000  2016-01-12 09:39:00      [0, 1]        0      1\n",
       "2   3  112175     39050  2016-01-12 10:32:00         [0]        0      1\n",
       "3   4  112180      1000  2016-01-12 10:34:00   [0, 0, 1]        0      1\n",
       "4   5  112284     47131  2016-01-12 10:38:00         [0]        0      1"
      ]
     },
     "execution_count": 23,
     "metadata": {},
     "output_type": "execute_result"
    }
   ],
   "source": [
    "df_paint.head()"
   ]
  },
  {
   "cell_type": "code",
   "execution_count": 24,
   "metadata": {},
   "outputs": [
    {
     "data": {
      "text/plain": [
       "89"
      ]
     },
     "execution_count": 24,
     "metadata": {},
     "output_type": "execute_result"
    }
   ],
   "source": [
    "df_paint['Name'].nunique()\n"
   ]
  },
  {
   "cell_type": "code",
   "execution_count": null,
   "metadata": {},
   "outputs": [],
   "source": []
  },
  {
   "cell_type": "code",
   "execution_count": 25,
   "metadata": {},
   "outputs": [],
   "source": [
    "# Dropping rows containing LastResults less than size of 3 executions\n",
    "MF = df_paint.loc[:,'LastResults'].tolist()                                                           \n",
    "\n",
    "\n",
    "i=0\n",
    "for a in MF:\n",
    "    \n",
    "    \n",
    "    \n",
    "    s=''.join(x for x in a if x.isdigit())\n",
    "    if len(s) < 3:\n",
    "        #df_paint.drop(df_paint.index[i])\n",
    "        df_paint.drop(i , inplace=True)\n",
    "        \n",
    "        \n",
    "    i=i+1\n",
    "    \n",
    "    "
   ]
  },
  {
   "cell_type": "code",
   "execution_count": 26,
   "metadata": {},
   "outputs": [
    {
     "data": {
      "text/plain": [
       "(25416, 7)"
      ]
     },
     "execution_count": 26,
     "metadata": {},
     "output_type": "execute_result"
    }
   ],
   "source": [
    "df_paint.shape\n"
   ]
  },
  {
   "cell_type": "code",
   "execution_count": 27,
   "metadata": {},
   "outputs": [],
   "source": [
    "# Adding List values of LastResults into separate E1,E2,E3 columns        \n",
    "MF = df_paint.loc[:,'LastResults'].tolist()                                                           \n",
    "\n",
    "rows = len(MF)\n",
    "\n",
    "E1 = []\n",
    "E2 = []\n",
    "\n",
    "E3 = []\n",
    " \n",
    "    \n",
    "i=0\n",
    "for a in MF:\n",
    "    \n",
    "    \n",
    "    \n",
    "    s=''.join(x for x in a if x.isdigit())\n",
    "\n",
    "        \n",
    "\n",
    "    E1.append(s[0])\n",
    "    E2.append(s[1])\n",
    "    E3.append(s[2])\n",
    "    #print (s[0],\"-\",s[1],\"-\",s[2])\n",
    "\n",
    "    \n",
    "    \n",
    "    \n",
    "    \n",
    "    \n",
    "    i=i+1\n",
    "    #print (\"---\")"
   ]
  },
  {
   "cell_type": "code",
   "execution_count": 28,
   "metadata": {},
   "outputs": [],
   "source": [
    "df_paint['E1'] = E1\n",
    "df_paint['E2'] = E2\n",
    "df_paint['E3'] = E3\n"
   ]
  },
  {
   "cell_type": "code",
   "execution_count": 29,
   "metadata": {},
   "outputs": [],
   "source": [
    "#function to reverse each row of the matrix\n",
    "def reverse_row_element(array_data):\n",
    "    list_data = array_data.tolist()\n",
    "    list_data.reverse()\n",
    "    return list_data\n",
    "df_paint['E1'] =df_paint['E1'].astype(int)\n",
    "df_paint['E2'] =df_paint['E2'].astype(int)\n",
    "df_paint['E3'] =df_paint['E3'].astype(int)\n",
    "\n",
    "# defining failure matrix MF\n",
    "MF = df_paint.loc[:,'E1':'E3'].values\n",
    "\n",
    "rows = len(MF)\n",
    "columns = len(MF[0])\n",
    "\n",
    "#calculating distance of failure for each test cases\n",
    "distances_list = []\n",
    "\n",
    "for i in range(rows):\n",
    "    reversed_element = reverse_row_element(MF[i])\n",
    "    if -1 in reversed_element:        \n",
    "        for j in range(len(reversed_element)):\n",
    "            if reversed_element[j] == -1:\n",
    "                distances_list.insert(i, j+1)\n",
    "                break\n",
    "    else:\n",
    "        #If distance == 0, means the test case has always been successful\n",
    "        distances_list.insert(i, 0)"
   ]
  },
  {
   "cell_type": "code",
   "execution_count": 30,
   "metadata": {},
   "outputs": [],
   "source": [
    "#calculating number of change of state of Pass/Fail for each test cases\n",
    "change_in_status = []\n",
    "\n",
    "for i in range(rows):\n",
    "    each_element = MF[i]\n",
    "    counter = 0\n",
    "    for j in range(len(each_element)-1):\n",
    "        if each_element[j]!=each_element[j+1]:\n",
    "            counter+=1\n",
    "    change_in_status.append(counter)"
   ]
  },
  {
   "cell_type": "code",
   "execution_count": 31,
   "metadata": {},
   "outputs": [
    {
     "name": "stdout",
     "output_type": "stream",
     "text": [
      "(3,)\n",
      "(25416, 3)\n"
     ]
    }
   ],
   "source": [
    "#Preparing weights based on DeepOrder algorithm\n",
    "weights = np.array([0.1,0.2,0.7])\n",
    "print (weights.shape)\n",
    "#Extracting average execution time from dataset\n",
    "df_paint['Duration'] =df_paint['Duration']\n",
    "\n",
    "Te = df_paint.Duration.values\n",
    "print (MF.shape)\n",
    "#Calculating priority value for each test case\n",
    "priority_value = (MF*weights).sum(axis=1)\n",
    "priority_value+= np.max(Te)/Te"
   ]
  },
  {
   "cell_type": "code",
   "execution_count": 32,
   "metadata": {},
   "outputs": [],
   "source": [
    "df_paint['DIST']=distances_list\n",
    "df_paint['CHANGE_IN_STATUS']=change_in_status\n",
    "df_paint['PRIORITY_VALUE'] = priority_value\n",
    "#df_paint.to_csv('paintcontrol_updated'+'.csv')"
   ]
  },
  {
   "cell_type": "code",
   "execution_count": 33,
   "metadata": {},
   "outputs": [],
   "source": [
    "# Update dates in LastRun according to each cycle\n",
    "from datetime import timedelta\n",
    "\n",
    "\n",
    "from datetime import datetime\n",
    "Month_of_thirty_days = [2,4,6,9,11]\n",
    "from dateutil.relativedelta import relativedelta\n",
    "\n",
    "currentDay = datetime.now().day\n",
    "currentMonth = datetime.now().month\n",
    "currentYear = datetime.now().year\n",
    "\n",
    "\n",
    "cycle = df_paint.loc[:,'Cycle'].values\n",
    "Dates = df_paint.loc[:,'LastRun'].values\n",
    "\n",
    "previous = 0\n",
    "rows = len(cycle)\n",
    "count=0\n",
    "firsttime = False\n",
    "\n",
    "\n",
    "# for rest of the cycle\n",
    "for i in range(rows):\n",
    "    each_element =cycle[i]\n",
    "    #print (\"Cycle :\",each_element)\n",
    "    #print (Dates[i])\n",
    "    if i==0:\n",
    "        #print (\"nothing\")\n",
    "        datestring = Dates[i]\n",
    "        dt = datetime.strptime(datestring, '%Y-%m-%d %H:%M:%S')\n",
    "        Dates[i] =  str(dt.year) +\"-\"+ str(dt.month) +\"-\"+ str(dt.day)\n",
    "    if i >= 1:\n",
    "        datestring = Dates[i]\n",
    "        dt = datetime.strptime(datestring, '%Y-%m-%d %H:%M:%S')\n",
    "        value = float(each_element-1)\n",
    "        # print (timedelta(days=value))\n",
    "        dtt =  dt + timedelta(days=value)\n",
    "        Dates[i] =  str(dtt.year) +\"-\"+ str(dtt.month) +\"-\"+ str(dtt.day)\n",
    "    #print (Dates[i])\n",
    "    #print ('---')  \n",
    "    \n",
    "\n",
    "\n",
    "\n",
    " "
   ]
  },
  {
   "cell_type": "code",
   "execution_count": 34,
   "metadata": {},
   "outputs": [
    {
     "name": "stdout",
     "output_type": "stream",
     "text": [
      "1735\n"
     ]
    }
   ],
   "source": [
    "#for testing purposes only\n",
    "from datetime import datetime\n",
    "datestring = Dates[0]\n",
    "dt = datetime.strptime(datestring, '%Y-%m-%d')\n",
    "#print (dt.year, dt.month, dt.day)\n",
    "\n",
    "from datetime import date\n",
    "f_date = date(dt.year, dt.month, dt.day)\n",
    "l_date = date(currentYear,currentMonth,currentDay)\n",
    "delta = l_date - f_date\n",
    "print(delta.days)\n",
    "days.append(delta.days)"
   ]
  },
  {
   "cell_type": "code",
   "execution_count": 35,
   "metadata": {},
   "outputs": [],
   "source": [
    "# Calculating difference in LastRun test cases (number of days in return)\n",
    "from datetime import datetime\n",
    "Month_of_thirty_days = [2,4,6,9,11]\n",
    "from dateutil.relativedelta import relativedelta\n",
    "\n",
    "currentDay = datetime.now().day\n",
    "currentMonth = datetime.now().month\n",
    "currentYear = datetime.now().year\n",
    "\n",
    "\n",
    "days=[]\n",
    "previous = 0\n",
    "rows = len(Dates)\n",
    "count=0\n",
    "firsttime = False\n",
    "'''\n",
    "#for 1st Cycle\n",
    "from datetime import datetime\n",
    "datestring = Dates[0]\n",
    "dt = datetime.strptime(datestring, '%Y-%m-%d')\n",
    "#print (dt.year, dt.month, dt.day)\n",
    "\n",
    "from datetime import date\n",
    "f_date = date(dt.year, dt.month, dt.day)\n",
    "l_date = date(currentYear,currentMonth,currentDay)\n",
    "delta = l_date - f_date\n",
    "print(delta.days)\n",
    "days.append(delta.days)\n",
    "'''\n",
    "\n",
    "\n",
    "\n",
    "# for rest of the cycle\n",
    "for i in range(rows):\n",
    "    each_element =cycle[i]\n",
    "    #print (\"Cycle :\",each_element)\n",
    "    \n",
    "    \n",
    "    \n",
    "    if i ==0:\n",
    "        #print (\"1st Cycle\")\n",
    "        #for 1st Cycle\n",
    "        from datetime import datetime\n",
    "        datestring = Dates[i]\n",
    "\n",
    "        dt = datetime.strptime(datestring, '%Y-%m-%d')\n",
    "        #print (type(dt))\n",
    "    \n",
    "        f_date = date(dt.year, dt.month, dt.day)\n",
    "        l_date = date(currentYear,currentMonth,currentDay)\n",
    "        delta = l_date - f_date\n",
    "        #print (delta)\n",
    "        #print (currentYear, currentMonth, currentDay, \" - \", dt.year, dt.month, dt.day)\n",
    "\n",
    "        previous = each_element\n",
    "        \n",
    "    if i >= 1:\n",
    "        datestring = Dates[i]\n",
    "        datestring_prev = Dates[i-1]\n",
    "        dt = datetime.strptime(datestring, '%Y-%m-%d')\n",
    "        dt_prev = datetime.strptime(datestring_prev, '%Y-%m-%d')\n",
    "\n",
    "\n",
    "        f_date = date(dt.year, dt.month, dt.day)\n",
    "        l_date = date(dt_prev.year, dt_prev.month, dt_prev.day)\n",
    "        delta = l_date - f_date\n",
    "        #print (\"** \",dt_prev.year, dt_prev.month, dt_prev.day, \" - \", dt.year, dt.month, dt.day)\n",
    "        \n",
    "\n",
    "    days.append(delta.days)\n",
    "    \n",
    "    #print ('---')  \n",
    "            \n",
    "    \n",
    "    \n",
    "    "
   ]
  },
  {
   "cell_type": "code",
   "execution_count": 36,
   "metadata": {},
   "outputs": [],
   "source": [
    "df_paint['LastRunFeature'] = days\n"
   ]
  },
  {
   "cell_type": "code",
   "execution_count": 37,
   "metadata": {},
   "outputs": [],
   "source": [
    "df_paint[\"LastRunFeature\"]=((df_paint[\"LastRunFeature\"]-df_paint[\"LastRunFeature\"].min())/(df_paint[\"LastRunFeature\"].max()-df_paint[\"LastRunFeature\"].min()))*5\n",
    "df_paint[\"DurationFeature\"]=((df_paint[\"Duration\"]-df_paint[\"Duration\"].min())/(df_paint[\"Duration\"].max()-df_paint[\"Duration\"].min()))*5\n",
    "#df_paint[\"Duration\"] = df_paint[\"Duration\"].astype(int)\n"
   ]
  },
  {
   "cell_type": "code",
   "execution_count": 38,
   "metadata": {},
   "outputs": [],
   "source": [
    "#df_paint =df_paint.reset_index()\n",
    "df_paint['Id'] = range(1, 1+len(df_paint))"
   ]
  },
  {
   "cell_type": "code",
   "execution_count": 39,
   "metadata": {},
   "outputs": [],
   "source": [
    "df_paint.to_csv('paintcontrol_updated'+'.csv', index = False)"
   ]
  },
  {
   "cell_type": "code",
   "execution_count": 20,
   "metadata": {},
   "outputs": [
    {
     "data": {
      "text/html": [
       "<div>\n",
       "<style scoped>\n",
       "    .dataframe tbody tr th:only-of-type {\n",
       "        vertical-align: middle;\n",
       "    }\n",
       "\n",
       "    .dataframe tbody tr th {\n",
       "        vertical-align: top;\n",
       "    }\n",
       "\n",
       "    .dataframe thead th {\n",
       "        text-align: right;\n",
       "    }\n",
       "</style>\n",
       "<table border=\"1\" class=\"dataframe\">\n",
       "  <thead>\n",
       "    <tr style=\"text-align: right;\">\n",
       "      <th></th>\n",
       "      <th>Id</th>\n",
       "      <th>Name</th>\n",
       "      <th>Duration</th>\n",
       "      <th>LastRun</th>\n",
       "      <th>LastResults</th>\n",
       "      <th>Verdict</th>\n",
       "      <th>Cycle</th>\n",
       "      <th>E1</th>\n",
       "      <th>E2</th>\n",
       "      <th>E3</th>\n",
       "      <th>DIST</th>\n",
       "      <th>CHANGE_IN_STATUS</th>\n",
       "      <th>PRIORITY_VALUE</th>\n",
       "      <th>LastRunFeature</th>\n",
       "      <th>DurationFeature</th>\n",
       "    </tr>\n",
       "  </thead>\n",
       "  <tbody>\n",
       "    <tr>\n",
       "      <th>3</th>\n",
       "      <td>1</td>\n",
       "      <td>112180</td>\n",
       "      <td>1000</td>\n",
       "      <td>2016-1-12</td>\n",
       "      <td>[0, 0, 1]</td>\n",
       "      <td>0</td>\n",
       "      <td>1</td>\n",
       "      <td>0</td>\n",
       "      <td>0</td>\n",
       "      <td>1</td>\n",
       "      <td>0</td>\n",
       "      <td>1</td>\n",
       "      <td>0.7</td>\n",
       "      <td>5.000000</td>\n",
       "      <td>0.000000</td>\n",
       "    </tr>\n",
       "    <tr>\n",
       "      <th>9</th>\n",
       "      <td>2</td>\n",
       "      <td>112180</td>\n",
       "      <td>1000</td>\n",
       "      <td>2016-1-15</td>\n",
       "      <td>[0, 0, 0, 1]</td>\n",
       "      <td>0</td>\n",
       "      <td>3</td>\n",
       "      <td>0</td>\n",
       "      <td>0</td>\n",
       "      <td>0</td>\n",
       "      <td>0</td>\n",
       "      <td>0</td>\n",
       "      <td>0.0</td>\n",
       "      <td>0.008616</td>\n",
       "      <td>0.000000</td>\n",
       "    </tr>\n",
       "    <tr>\n",
       "      <th>36</th>\n",
       "      <td>3</td>\n",
       "      <td>112491</td>\n",
       "      <td>6562</td>\n",
       "      <td>2016-1-17</td>\n",
       "      <td>[0, 0, 0]</td>\n",
       "      <td>0</td>\n",
       "      <td>4</td>\n",
       "      <td>0</td>\n",
       "      <td>0</td>\n",
       "      <td>0</td>\n",
       "      <td>0</td>\n",
       "      <td>0</td>\n",
       "      <td>0.0</td>\n",
       "      <td>0.011488</td>\n",
       "      <td>0.058593</td>\n",
       "    </tr>\n",
       "    <tr>\n",
       "      <th>38</th>\n",
       "      <td>4</td>\n",
       "      <td>112471</td>\n",
       "      <td>45700</td>\n",
       "      <td>2016-1-17</td>\n",
       "      <td>[0, 0, 0]</td>\n",
       "      <td>0</td>\n",
       "      <td>4</td>\n",
       "      <td>0</td>\n",
       "      <td>0</td>\n",
       "      <td>0</td>\n",
       "      <td>0</td>\n",
       "      <td>0</td>\n",
       "      <td>0.0</td>\n",
       "      <td>0.017231</td>\n",
       "      <td>0.470892</td>\n",
       "    </tr>\n",
       "    <tr>\n",
       "      <th>39</th>\n",
       "      <td>5</td>\n",
       "      <td>112175</td>\n",
       "      <td>39050</td>\n",
       "      <td>2016-1-17</td>\n",
       "      <td>[0, 0, 0]</td>\n",
       "      <td>0</td>\n",
       "      <td>4</td>\n",
       "      <td>0</td>\n",
       "      <td>0</td>\n",
       "      <td>0</td>\n",
       "      <td>0</td>\n",
       "      <td>0</td>\n",
       "      <td>0.0</td>\n",
       "      <td>0.017231</td>\n",
       "      <td>0.400838</td>\n",
       "    </tr>\n",
       "  </tbody>\n",
       "</table>\n",
       "</div>"
      ],
      "text/plain": [
       "    Id    Name  Duration    LastRun   LastResults  Verdict  Cycle  E1  E2  E3  \\\n",
       "3    1  112180      1000  2016-1-12     [0, 0, 1]        0      1   0   0   1   \n",
       "9    2  112180      1000  2016-1-15  [0, 0, 0, 1]        0      3   0   0   0   \n",
       "36   3  112491      6562  2016-1-17     [0, 0, 0]        0      4   0   0   0   \n",
       "38   4  112471     45700  2016-1-17     [0, 0, 0]        0      4   0   0   0   \n",
       "39   5  112175     39050  2016-1-17     [0, 0, 0]        0      4   0   0   0   \n",
       "\n",
       "    DIST  CHANGE_IN_STATUS  PRIORITY_VALUE  LastRunFeature  DurationFeature  \n",
       "3      0                 1             0.7        5.000000         0.000000  \n",
       "9      0                 0             0.0        0.008616         0.000000  \n",
       "36     0                 0             0.0        0.011488         0.058593  \n",
       "38     0                 0             0.0        0.017231         0.470892  \n",
       "39     0                 0             0.0        0.017231         0.400838  "
      ]
     },
     "execution_count": 20,
     "metadata": {},
     "output_type": "execute_result"
    }
   ],
   "source": [
    "df_paint.head()"
   ]
  },
  {
   "cell_type": "code",
   "execution_count": null,
   "metadata": {},
   "outputs": [],
   "source": []
  }
 ],
 "metadata": {
  "kernelspec": {
   "display_name": "Python 3",
   "language": "python",
   "name": "python3"
  },
  "language_info": {
   "codemirror_mode": {
    "name": "ipython",
    "version": 3
   },
   "file_extension": ".py",
   "mimetype": "text/x-python",
   "name": "python",
   "nbconvert_exporter": "python",
   "pygments_lexer": "ipython3",
   "version": "3.7.7"
  }
 },
 "nbformat": 4,
 "nbformat_minor": 4
}
