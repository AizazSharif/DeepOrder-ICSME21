{
 "cells": [
  {
   "cell_type": "code",
   "execution_count": 1,
   "metadata": {},
   "outputs": [],
   "source": [
    "import json\n",
    "import csv\n",
    "import pandas as pd\n",
    "import numpy as np\n",
    "newDF = pd.DataFrame() #creates a new dataframe that's empty\n"
   ]
  },
  {
   "cell_type": "code",
   "execution_count": 2,
   "metadata": {},
   "outputs": [
    {
     "data": {
      "text/plain": [
       "(1260618, 7)"
      ]
     },
     "execution_count": 2,
     "metadata": {},
     "output_type": "execute_result"
    }
   ],
   "source": [
    "df_gsdtsr = pd.read_csv('gsdtsr.csv', sep=';',)\n",
    "df_gsdtsr.shape"
   ]
  },
  {
   "cell_type": "code",
   "execution_count": 3,
   "metadata": {},
   "outputs": [
    {
     "data": {
      "text/html": [
       "<div>\n",
       "<style scoped>\n",
       "    .dataframe tbody tr th:only-of-type {\n",
       "        vertical-align: middle;\n",
       "    }\n",
       "\n",
       "    .dataframe tbody tr th {\n",
       "        vertical-align: top;\n",
       "    }\n",
       "\n",
       "    .dataframe thead th {\n",
       "        text-align: right;\n",
       "    }\n",
       "</style>\n",
       "<table border=\"1\" class=\"dataframe\">\n",
       "  <thead>\n",
       "    <tr style=\"text-align: right;\">\n",
       "      <th></th>\n",
       "      <th>Id</th>\n",
       "      <th>Name</th>\n",
       "      <th>Duration</th>\n",
       "      <th>LastRun</th>\n",
       "      <th>LastResults</th>\n",
       "      <th>Verdict</th>\n",
       "      <th>Cycle</th>\n",
       "    </tr>\n",
       "  </thead>\n",
       "  <tbody>\n",
       "    <tr>\n",
       "      <th>0</th>\n",
       "      <td>1</td>\n",
       "      <td>1</td>\n",
       "      <td>27752</td>\n",
       "      <td>2016-01-02 00:00:02</td>\n",
       "      <td>[]</td>\n",
       "      <td>False</td>\n",
       "      <td>1</td>\n",
       "    </tr>\n",
       "    <tr>\n",
       "      <th>1</th>\n",
       "      <td>2584</td>\n",
       "      <td>5</td>\n",
       "      <td>30112</td>\n",
       "      <td>2016-01-02 00:00:02</td>\n",
       "      <td>[]</td>\n",
       "      <td>False</td>\n",
       "      <td>1</td>\n",
       "    </tr>\n",
       "    <tr>\n",
       "      <th>2</th>\n",
       "      <td>1954</td>\n",
       "      <td>4</td>\n",
       "      <td>46384</td>\n",
       "      <td>2016-01-02 00:00:02</td>\n",
       "      <td>[]</td>\n",
       "      <td>False</td>\n",
       "      <td>1</td>\n",
       "    </tr>\n",
       "    <tr>\n",
       "      <th>3</th>\n",
       "      <td>1309</td>\n",
       "      <td>3</td>\n",
       "      <td>54264</td>\n",
       "      <td>2016-01-02 00:00:02</td>\n",
       "      <td>[]</td>\n",
       "      <td>False</td>\n",
       "      <td>1</td>\n",
       "    </tr>\n",
       "    <tr>\n",
       "      <th>4</th>\n",
       "      <td>655</td>\n",
       "      <td>2</td>\n",
       "      <td>48238</td>\n",
       "      <td>2016-01-02 00:00:02</td>\n",
       "      <td>[]</td>\n",
       "      <td>False</td>\n",
       "      <td>1</td>\n",
       "    </tr>\n",
       "  </tbody>\n",
       "</table>\n",
       "</div>"
      ],
      "text/plain": [
       "     Id  Name  Duration              LastRun LastResults  Verdict  Cycle\n",
       "0     1     1     27752  2016-01-02 00:00:02          []    False      1\n",
       "1  2584     5     30112  2016-01-02 00:00:02          []    False      1\n",
       "2  1954     4     46384  2016-01-02 00:00:02          []    False      1\n",
       "3  1309     3     54264  2016-01-02 00:00:02          []    False      1\n",
       "4   655     2     48238  2016-01-02 00:00:02          []    False      1"
      ]
     },
     "execution_count": 3,
     "metadata": {},
     "output_type": "execute_result"
    }
   ],
   "source": [
    "df_gsdtsr.head()"
   ]
  },
  {
   "cell_type": "code",
   "execution_count": 4,
   "metadata": {},
   "outputs": [
    {
     "data": {
      "text/plain": [
       "5555"
      ]
     },
     "execution_count": 4,
     "metadata": {},
     "output_type": "execute_result"
    }
   ],
   "source": [
    "df_gsdtsr['Name'].nunique()\n"
   ]
  },
  {
   "cell_type": "code",
   "execution_count": 5,
   "metadata": {},
   "outputs": [
    {
     "data": {
      "text/plain": [
       "False    1257408\n",
       "True        3210\n",
       "Name: Verdict, dtype: int64"
      ]
     },
     "execution_count": 5,
     "metadata": {},
     "output_type": "execute_result"
    }
   ],
   "source": [
    "df_gsdtsr['Verdict'].value_counts()\n"
   ]
  },
  {
   "cell_type": "code",
   "execution_count": 6,
   "metadata": {},
   "outputs": [],
   "source": [
    "# Removing emply rows based on LastResults\n",
    "\n",
    "df2=df_gsdtsr[df_gsdtsr.LastResults.str.contains('False') | df_gsdtsr.LastResults.str.contains(\"True\")]"
   ]
  },
  {
   "cell_type": "code",
   "execution_count": 7,
   "metadata": {},
   "outputs": [
    {
     "name": "stderr",
     "output_type": "stream",
     "text": [
      "/home/aizaz/anaconda3/envs/tensorflow/lib/python3.7/site-packages/pandas/core/generic.py:5303: SettingWithCopyWarning: \n",
      "A value is trying to be set on a copy of a slice from a DataFrame.\n",
      "Try using .loc[row_indexer,col_indexer] = value instead\n",
      "\n",
      "See the caveats in the documentation: https://pandas.pydata.org/pandas-docs/stable/user_guide/indexing.html#returning-a-view-versus-a-copy\n",
      "  self[name] = value\n"
     ]
    }
   ],
   "source": [
    "# Changing False to 0 and True to 1\n",
    "df2.LastResults = df2.LastResults.str.replace(r'False', str(0), regex=True)\n",
    "df2.LastResults = df2.LastResults.str.replace(r'True', str(1), regex=True)\n"
   ]
  },
  {
   "cell_type": "code",
   "execution_count": null,
   "metadata": {},
   "outputs": [],
   "source": []
  },
  {
   "cell_type": "code",
   "execution_count": 8,
   "metadata": {},
   "outputs": [],
   "source": [
    "# Changing False to 0 and True to 1\n",
    "\n",
    "products_list = df2.Verdict.tolist()\n",
    "gender = {False: 0, True:1} \n",
    "\n",
    "df2.Verdict = [gender[item] for item in (products_list)] "
   ]
  },
  {
   "cell_type": "code",
   "execution_count": 9,
   "metadata": {},
   "outputs": [],
   "source": [
    "df2=df2.reset_index()"
   ]
  },
  {
   "cell_type": "code",
   "execution_count": 10,
   "metadata": {},
   "outputs": [],
   "source": [
    "df2.to_csv('gsdtsr_updated'+'.csv',sep=';', index = False)"
   ]
  },
  {
   "cell_type": "code",
   "execution_count": null,
   "metadata": {},
   "outputs": [],
   "source": []
  },
  {
   "cell_type": "code",
   "execution_count": 12,
   "metadata": {},
   "outputs": [],
   "source": [
    "df_gsdtsr = pd.read_csv('gsdtsr_updated.csv',sep=';')\n",
    "    "
   ]
  },
  {
   "cell_type": "code",
   "execution_count": 13,
   "metadata": {},
   "outputs": [
    {
     "data": {
      "text/html": [
       "<div>\n",
       "<style scoped>\n",
       "    .dataframe tbody tr th:only-of-type {\n",
       "        vertical-align: middle;\n",
       "    }\n",
       "\n",
       "    .dataframe tbody tr th {\n",
       "        vertical-align: top;\n",
       "    }\n",
       "\n",
       "    .dataframe thead th {\n",
       "        text-align: right;\n",
       "    }\n",
       "</style>\n",
       "<table border=\"1\" class=\"dataframe\">\n",
       "  <thead>\n",
       "    <tr style=\"text-align: right;\">\n",
       "      <th></th>\n",
       "      <th>index</th>\n",
       "      <th>Id</th>\n",
       "      <th>Name</th>\n",
       "      <th>Duration</th>\n",
       "      <th>LastRun</th>\n",
       "      <th>LastResults</th>\n",
       "      <th>Verdict</th>\n",
       "      <th>Cycle</th>\n",
       "    </tr>\n",
       "  </thead>\n",
       "  <tbody>\n",
       "    <tr>\n",
       "      <th>0</th>\n",
       "      <td>377</td>\n",
       "      <td>66004</td>\n",
       "      <td>159</td>\n",
       "      <td>38205</td>\n",
       "      <td>2016-01-02 00:09:36</td>\n",
       "      <td>[0]</td>\n",
       "      <td>0</td>\n",
       "      <td>1</td>\n",
       "    </tr>\n",
       "    <tr>\n",
       "      <th>1</th>\n",
       "      <td>490</td>\n",
       "      <td>203640</td>\n",
       "      <td>484</td>\n",
       "      <td>61402</td>\n",
       "      <td>2016-01-02 00:23:12</td>\n",
       "      <td>[0]</td>\n",
       "      <td>0</td>\n",
       "      <td>1</td>\n",
       "    </tr>\n",
       "    <tr>\n",
       "      <th>2</th>\n",
       "      <td>498</td>\n",
       "      <td>8091</td>\n",
       "      <td>21</td>\n",
       "      <td>43077</td>\n",
       "      <td>2016-01-02 00:26:23</td>\n",
       "      <td>[0]</td>\n",
       "      <td>0</td>\n",
       "      <td>1</td>\n",
       "    </tr>\n",
       "    <tr>\n",
       "      <th>3</th>\n",
       "      <td>499</td>\n",
       "      <td>78574</td>\n",
       "      <td>196</td>\n",
       "      <td>1341</td>\n",
       "      <td>2016-01-02 00:26:37</td>\n",
       "      <td>[0]</td>\n",
       "      <td>0</td>\n",
       "      <td>1</td>\n",
       "    </tr>\n",
       "    <tr>\n",
       "      <th>4</th>\n",
       "      <td>500</td>\n",
       "      <td>38273</td>\n",
       "      <td>97</td>\n",
       "      <td>1122</td>\n",
       "      <td>2016-01-02 00:26:44</td>\n",
       "      <td>[0]</td>\n",
       "      <td>0</td>\n",
       "      <td>1</td>\n",
       "    </tr>\n",
       "  </tbody>\n",
       "</table>\n",
       "</div>"
      ],
      "text/plain": [
       "   index      Id  Name  Duration              LastRun LastResults  Verdict  \\\n",
       "0    377   66004   159     38205  2016-01-02 00:09:36         [0]        0   \n",
       "1    490  203640   484     61402  2016-01-02 00:23:12         [0]        0   \n",
       "2    498    8091    21     43077  2016-01-02 00:26:23         [0]        0   \n",
       "3    499   78574   196      1341  2016-01-02 00:26:37         [0]        0   \n",
       "4    500   38273    97      1122  2016-01-02 00:26:44         [0]        0   \n",
       "\n",
       "   Cycle  \n",
       "0      1  \n",
       "1      1  \n",
       "2      1  \n",
       "3      1  \n",
       "4      1  "
      ]
     },
     "execution_count": 13,
     "metadata": {},
     "output_type": "execute_result"
    }
   ],
   "source": [
    "df_gsdtsr.head()"
   ]
  },
  {
   "cell_type": "code",
   "execution_count": null,
   "metadata": {},
   "outputs": [],
   "source": []
  },
  {
   "cell_type": "code",
   "execution_count": null,
   "metadata": {},
   "outputs": [],
   "source": []
  },
  {
   "cell_type": "code",
   "execution_count": 14,
   "metadata": {},
   "outputs": [
    {
     "name": "stdout",
     "output_type": "stream",
     "text": [
      "Yes\n"
     ]
    }
   ],
   "source": [
    "# Dropping rows containing LastResults less than size of 3 executions\n",
    "\n",
    "MF = df_gsdtsr.loc[:,'LastResults']                                               \n",
    "to_drop = []\n",
    "i=0\n",
    "for a in MF:\n",
    "    \n",
    "    #print (a[0])\n",
    "    \n",
    "    \n",
    "    s=''.join(x for x in a if x.isdigit())\n",
    "    #print (a , \" \", len(s))\n",
    "    if len(s) < 3:\n",
    "        \n",
    "        df_gsdtsr.drop(i , inplace=True)\n",
    "        \n",
    "        \n",
    "    i=i+1\n",
    "    if (i==1000000):\n",
    "        print (\"Yes\")"
   ]
  },
  {
   "cell_type": "code",
   "execution_count": 15,
   "metadata": {},
   "outputs": [
    {
     "data": {
      "text/html": [
       "<div>\n",
       "<style scoped>\n",
       "    .dataframe tbody tr th:only-of-type {\n",
       "        vertical-align: middle;\n",
       "    }\n",
       "\n",
       "    .dataframe tbody tr th {\n",
       "        vertical-align: top;\n",
       "    }\n",
       "\n",
       "    .dataframe thead th {\n",
       "        text-align: right;\n",
       "    }\n",
       "</style>\n",
       "<table border=\"1\" class=\"dataframe\">\n",
       "  <thead>\n",
       "    <tr style=\"text-align: right;\">\n",
       "      <th></th>\n",
       "      <th>index</th>\n",
       "      <th>Id</th>\n",
       "      <th>Name</th>\n",
       "      <th>Duration</th>\n",
       "      <th>LastRun</th>\n",
       "      <th>LastResults</th>\n",
       "      <th>Verdict</th>\n",
       "      <th>Cycle</th>\n",
       "    </tr>\n",
       "  </thead>\n",
       "  <tbody>\n",
       "    <tr>\n",
       "      <th>175</th>\n",
       "      <td>964</td>\n",
       "      <td>66006</td>\n",
       "      <td>159</td>\n",
       "      <td>37025</td>\n",
       "      <td>2016-01-02 00:57:12</td>\n",
       "      <td>[0, 0, 0]</td>\n",
       "      <td>0</td>\n",
       "      <td>1</td>\n",
       "    </tr>\n",
       "    <tr>\n",
       "      <th>451</th>\n",
       "      <td>2916</td>\n",
       "      <td>203642</td>\n",
       "      <td>484</td>\n",
       "      <td>44494</td>\n",
       "      <td>2016-01-02 01:04:20</td>\n",
       "      <td>[0, 0, 0]</td>\n",
       "      <td>0</td>\n",
       "      <td>2</td>\n",
       "    </tr>\n",
       "    <tr>\n",
       "      <th>624</th>\n",
       "      <td>3342</td>\n",
       "      <td>19900</td>\n",
       "      <td>50</td>\n",
       "      <td>2408</td>\n",
       "      <td>2016-01-02 01:04:47</td>\n",
       "      <td>[0, 0, 0]</td>\n",
       "      <td>0</td>\n",
       "      <td>2</td>\n",
       "    </tr>\n",
       "    <tr>\n",
       "      <th>626</th>\n",
       "      <td>3345</td>\n",
       "      <td>31913</td>\n",
       "      <td>79</td>\n",
       "      <td>13584</td>\n",
       "      <td>2016-01-02 01:04:48</td>\n",
       "      <td>[0, 0, 0]</td>\n",
       "      <td>0</td>\n",
       "      <td>2</td>\n",
       "    </tr>\n",
       "    <tr>\n",
       "      <th>627</th>\n",
       "      <td>3348</td>\n",
       "      <td>48496</td>\n",
       "      <td>116</td>\n",
       "      <td>16270</td>\n",
       "      <td>2016-01-02 01:04:49</td>\n",
       "      <td>[0, 0, 0]</td>\n",
       "      <td>0</td>\n",
       "      <td>2</td>\n",
       "    </tr>\n",
       "  </tbody>\n",
       "</table>\n",
       "</div>"
      ],
      "text/plain": [
       "     index      Id  Name  Duration              LastRun LastResults  Verdict  \\\n",
       "175    964   66006   159     37025  2016-01-02 00:57:12   [0, 0, 0]        0   \n",
       "451   2916  203642   484     44494  2016-01-02 01:04:20   [0, 0, 0]        0   \n",
       "624   3342   19900    50      2408  2016-01-02 01:04:47   [0, 0, 0]        0   \n",
       "626   3345   31913    79     13584  2016-01-02 01:04:48   [0, 0, 0]        0   \n",
       "627   3348   48496   116     16270  2016-01-02 01:04:49   [0, 0, 0]        0   \n",
       "\n",
       "     Cycle  \n",
       "175      1  \n",
       "451      2  \n",
       "624      2  \n",
       "626      2  \n",
       "627      2  "
      ]
     },
     "execution_count": 15,
     "metadata": {},
     "output_type": "execute_result"
    }
   ],
   "source": [
    "\n",
    "df_gsdtsr.head()"
   ]
  },
  {
   "cell_type": "code",
   "execution_count": 16,
   "metadata": {},
   "outputs": [],
   "source": [
    "# Adding List values of LastResults into separate E1,E2,E3 columns        \n",
    "MF = df_gsdtsr.loc[:,'LastResults'].tolist()                                                           \n",
    "\n",
    "rows = len(MF)\n",
    "\n",
    "E1 = []\n",
    "E2 = []\n",
    "\n",
    "E3 = []\n",
    " \n",
    "    \n",
    "i=0\n",
    "for a in MF:\n",
    "    \n",
    "    \n",
    "    \n",
    "    s=''.join(x for x in a if x.isdigit())\n",
    "\n",
    "        \n",
    "\n",
    "    E1.append(s[0])\n",
    "    E2.append(s[1])\n",
    "    E3.append(s[2])\n",
    "    #print (s[0],\"-\",s[1],\"-\",s[2])\n",
    "\n",
    "    \n",
    "    \n",
    "    \n",
    "    \n",
    "    \n",
    "    i=i+1\n",
    "    #print (\"---\")"
   ]
  },
  {
   "cell_type": "code",
   "execution_count": 17,
   "metadata": {},
   "outputs": [],
   "source": [
    "df_gsdtsr['E1'] = E1\n",
    "df_gsdtsr['E2'] = E2\n",
    "df_gsdtsr['E3'] = E3\n"
   ]
  },
  {
   "cell_type": "code",
   "execution_count": 18,
   "metadata": {},
   "outputs": [],
   "source": [
    "#function to reverse each row of the matrix\n",
    "def reverse_row_element(array_data):\n",
    "    list_data = array_data.tolist()\n",
    "    list_data.reverse()\n",
    "    return list_data\n",
    "df_gsdtsr['E1'] =df_gsdtsr['E1'].astype(int)\n",
    "df_gsdtsr['E2'] =df_gsdtsr['E2'].astype(int)\n",
    "df_gsdtsr['E3'] =df_gsdtsr['E3'].astype(int)\n",
    "\n",
    "# defining failure matrix MF\n",
    "MF = df_gsdtsr.loc[:,'E1':'E3'].values\n",
    "\n",
    "rows = len(MF)\n",
    "columns = len(MF[0])\n",
    "\n",
    "#calculating distance of failure for each test cases\n",
    "distances_list = []\n",
    "\n",
    "for i in range(rows):\n",
    "    reversed_element = reverse_row_element(MF[i])\n",
    "    if -1 in reversed_element:        \n",
    "        for j in range(len(reversed_element)):\n",
    "            if reversed_element[j] == -1:\n",
    "                distances_list.insert(i, j+1)\n",
    "                break\n",
    "    else:\n",
    "        #If distance == 0, means the test case has always been successful\n",
    "        distances_list.insert(i, 0)"
   ]
  },
  {
   "cell_type": "code",
   "execution_count": 19,
   "metadata": {},
   "outputs": [],
   "source": [
    "#calculating number of change of state of Pass/Fail for each test cases\n",
    "change_in_status = []\n",
    "\n",
    "for i in range(rows):\n",
    "    each_element = MF[i]\n",
    "    counter = 0\n",
    "    for j in range(len(each_element)-1):\n",
    "        if each_element[j]!=each_element[j+1]:\n",
    "            counter+=1\n",
    "    change_in_status.append(counter)"
   ]
  },
  {
   "cell_type": "code",
   "execution_count": 29,
   "metadata": {},
   "outputs": [
    {
     "name": "stdout",
     "output_type": "stream",
     "text": [
      "(3,)\n",
      "(1243991, 3)\n"
     ]
    }
   ],
   "source": [
    "#Preparing weights based on DeepOrder algorithm\n",
    "weights = np.array([0.1,0.2,0.7])\n",
    "print (weights.shape)\n",
    "#Extracting average execution time from dataset\n",
    "df_gsdtsr['Duration'] =df_gsdtsr['Duration']\n",
    "\n",
    "Te = df_gsdtsr.Duration.values\n",
    "print (MF.shape)\n",
    "#Calculating priority value for each test case\n",
    "priority_value = (MF*weights).sum(axis=1)\n",
    "priority_value+= np.max(Te)/Te"
   ]
  },
  {
   "cell_type": "code",
   "execution_count": 30,
   "metadata": {},
   "outputs": [],
   "source": [
    "df_gsdtsr['DIST']=distances_list\n",
    "df_gsdtsr['CHANGE_IN_STATUS']=change_in_status\n",
    "df_gsdtsr['PRIORITY_VALUE'] = priority_value\n",
    "df_gsdtsr.to_csv('gsdtsr_updated'+'.csv', index = False)"
   ]
  },
  {
   "cell_type": "code",
   "execution_count": null,
   "metadata": {},
   "outputs": [],
   "source": [
    "# Update dates in LastRun according to each cycle\n",
    "from datetime import timedelta\n",
    "\n",
    "\n",
    "from datetime import datetime\n",
    "Month_of_thirty_days = [2,4,6,9,11]\n",
    "from dateutil.relativedelta import relativedelta\n",
    "\n",
    "currentDay = datetime.now().day\n",
    "currentMonth = datetime.now().month\n",
    "currentYear = datetime.now().year\n",
    "\n",
    "\n",
    "cycle = df_gsdtsr.loc[:,'Cycle'].values\n",
    "Dates = df_gsdtsr.loc[:,'LastRun'].values\n",
    "\n",
    "previous = 0\n",
    "rows = len(cycle)\n",
    "count=0\n",
    "firsttime = False\n",
    "\n",
    "\n",
    "# for rest of the cycle\n",
    "for i in range(rows):\n",
    "    each_element =cycle[i]\n",
    "    #print (\"Cycle :\",each_element)\n",
    "    #print (Dates[i])\n",
    "    if i==0:\n",
    "        #print (\"nothing\")\n",
    "        datestring = Dates[i]\n",
    "        dt = datetime.strptime(datestring, '%Y-%m-%d %H:%M:%S')\n",
    "        Dates[i] =  str(dt.year) +\"-\"+ str(dt.month) +\"-\"+ str(dt.day)\n",
    "    if i >= 1:\n",
    "        datestring = Dates[i]\n",
    "        dt = datetime.strptime(datestring, '%Y-%m-%d %H:%M:%S')\n",
    "        value = float(each_element-1)\n",
    "        # print (timedelta(days=value))\n",
    "        dtt =  dt + timedelta(days=value)\n",
    "        Dates[i] =  str(dtt.year) +\"-\"+ str(dtt.month) +\"-\"+ str(dtt.day)\n",
    "    #print (Dates[i])\n",
    "    #print ('---')  \n",
    "    \n",
    "\n",
    "\n",
    "\n",
    " "
   ]
  },
  {
   "cell_type": "code",
   "execution_count": null,
   "metadata": {},
   "outputs": [],
   "source": [
    "#for testing purposes only\n",
    "from datetime import datetime\n",
    "datestring = Dates[0]\n",
    "dt = datetime.strptime(datestring, '%Y-%m-%d')\n",
    "#print (dt.year, dt.month, dt.day)\n",
    "\n",
    "from datetime import date\n",
    "f_date = date(dt.year, dt.month, dt.day)\n",
    "l_date = date(currentYear,currentMonth,currentDay)\n",
    "delta = l_date - f_date\n",
    "print(delta.days)\n",
    "days.append(delta.days)"
   ]
  },
  {
   "cell_type": "code",
   "execution_count": null,
   "metadata": {},
   "outputs": [],
   "source": [
    "# Calculating difference in LastRun test cases (number of days in return)\n",
    "from datetime import datetime\n",
    "Month_of_thirty_days = [2,4,6,9,11]\n",
    "from dateutil.relativedelta import relativedelta\n",
    "\n",
    "currentDay = datetime.now().day\n",
    "currentMonth = datetime.now().month\n",
    "currentYear = datetime.now().year\n",
    "\n",
    "\n",
    "days=[]\n",
    "previous = 0\n",
    "rows = len(Dates)\n",
    "count=0\n",
    "firsttime = False\n",
    "'''\n",
    "#for 1st Cycle\n",
    "from datetime import datetime\n",
    "datestring = Dates[0]\n",
    "dt = datetime.strptime(datestring, '%Y-%m-%d')\n",
    "#print (dt.year, dt.month, dt.day)\n",
    "\n",
    "from datetime import date\n",
    "f_date = date(dt.year, dt.month, dt.day)\n",
    "l_date = date(currentYear,currentMonth,currentDay)\n",
    "delta = l_date - f_date\n",
    "print(delta.days)\n",
    "days.append(delta.days)\n",
    "'''\n",
    "\n",
    "\n",
    "\n",
    "# for rest of the cycle\n",
    "for i in range(rows):\n",
    "    each_element =cycle[i]\n",
    "    #print (\"Cycle :\",each_element)\n",
    "    \n",
    "    \n",
    "    \n",
    "    if i ==0:\n",
    "        #print (\"1st Cycle\")\n",
    "        #for 1st Cycle\n",
    "        from datetime import datetime\n",
    "        datestring = Dates[i]\n",
    "\n",
    "        dt = datetime.strptime(datestring, '%Y-%m-%d')\n",
    "        #print (type(dt))\n",
    "    \n",
    "        f_date = date(dt.year, dt.month, dt.day)\n",
    "        l_date = date(currentYear,currentMonth,currentDay)\n",
    "        delta = l_date - f_date\n",
    "        #print (delta)\n",
    "        #print (currentYear, currentMonth, currentDay, \" - \", dt.year, dt.month, dt.day)\n",
    "\n",
    "        previous = each_element\n",
    "        \n",
    "    if i >= 1:\n",
    "        datestring = Dates[i]\n",
    "        datestring_prev = Dates[i-1]\n",
    "        dt = datetime.strptime(datestring, '%Y-%m-%d')\n",
    "        dt_prev = datetime.strptime(datestring_prev, '%Y-%m-%d')\n",
    "\n",
    "\n",
    "        f_date = date(dt.year, dt.month, dt.day)\n",
    "        l_date = date(dt_prev.year, dt_prev.month, dt_prev.day)\n",
    "        delta = l_date - f_date\n",
    "        #print (\"** \",dt_prev.year, dt_prev.month, dt_prev.day, \" - \", dt.year, dt.month, dt.day)\n",
    "        \n",
    "\n",
    "    days.append(delta.days)\n",
    "    \n",
    "    #print ('---')  \n",
    "            \n",
    "    \n",
    "    \n",
    "    "
   ]
  },
  {
   "cell_type": "code",
   "execution_count": null,
   "metadata": {},
   "outputs": [],
   "source": [
    "df_gsdtsr['LastRunFeature'] = days\n"
   ]
  },
  {
   "cell_type": "code",
   "execution_count": null,
   "metadata": {},
   "outputs": [],
   "source": [
    "df_gsdtsr[\"LastRunFeature\"]=((df_gsdtsr[\"LastRunFeature\"]-df_gsdtsr[\"LastRunFeature\"].min())/(df_gsdtsr[\"LastRunFeature\"].max()-df_gsdtsr[\"LastRunFeature\"].min()))*5\n",
    "df_gsdtsr[\"DurationFeature\"]=((df_gsdtsr[\"Duration\"]-df_gsdtsr[\"Duration\"].min())/(df_gsdtsr[\"Duration\"].max()-df_gsdtsr[\"Duration\"].min()))*5\n",
    "df_gsdtsr[\"Duration\"] = df_gsdtsr[\"Duration\"].astype(int)\n"
   ]
  },
  {
   "cell_type": "code",
   "execution_count": null,
   "metadata": {},
   "outputs": [],
   "source": [
    "df_gsdtsr['Id'] = range(1, 1+len(df_gsdtsr))"
   ]
  },
  {
   "cell_type": "code",
   "execution_count": 32,
   "metadata": {},
   "outputs": [],
   "source": [
    "\n",
    "df_gsdtsr.to_csv('gsdtsr_updated'+'.csv', index = False)"
   ]
  },
  {
   "cell_type": "code",
   "execution_count": null,
   "metadata": {},
   "outputs": [],
   "source": [
    "df_gsdtsr.head()"
   ]
  },
  {
   "cell_type": "code",
   "execution_count": 32,
   "metadata": {},
   "outputs": [
    {
     "data": {
      "text/plain": [
       "(1243991, 16)"
      ]
     },
     "execution_count": 32,
     "metadata": {},
     "output_type": "execute_result"
    }
   ],
   "source": [
    "df_gsdtsr.shape"
   ]
  },
  {
   "cell_type": "code",
   "execution_count": null,
   "metadata": {},
   "outputs": [],
   "source": []
  }
 ],
 "metadata": {
  "kernelspec": {
   "display_name": "Python 3",
   "language": "python",
   "name": "python3"
  },
  "language_info": {
   "codemirror_mode": {
    "name": "ipython",
    "version": 3
   },
   "file_extension": ".py",
   "mimetype": "text/x-python",
   "name": "python",
   "nbconvert_exporter": "python",
   "pygments_lexer": "ipython3",
   "version": "3.7.7"
  }
 },
 "nbformat": 4,
 "nbformat_minor": 4
}
